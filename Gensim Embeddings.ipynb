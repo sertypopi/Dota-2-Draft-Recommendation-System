{
 "cells": [
  {
   "cell_type": "code",
   "execution_count": 1,
   "metadata": {},
   "outputs": [],
   "source": [
    "import numpy as np\n",
    "import pandas as pd\n",
    "import requests\n",
    "import json\n",
    "import urllib\n",
    "import tensorflow as tf\n",
    "import tensorflow_datasets\n",
    "from tensorflow import keras\n",
    "from gensim.models.callbacks import CallbackAny2Vec\n",
    "%config Completer.use_jedi =False\n",
    "from gensim.models import Word2Vec"
   ]
  },
  {
   "cell_type": "code",
   "execution_count": 8,
   "metadata": {},
   "outputs": [],
   "source": [
    "# Dont Execute\n",
    "picks_array=np.load('picks_array.npy')\n",
    "hero_df=pd.read_csv('hero_df.csv')\n",
    "hero_dict={}\n",
    "for i in hero_df['sid']:\n",
    "    hero_dict[i]=hero_df[hero_df['sid']==i]['localized_name'].values[0]\n",
    "names_array=[]\n",
    "for i in picks_array:\n",
    "    filler=[]\n",
    "    for j in i:\n",
    "        filler.append(hero_dict[j])\n",
    "    names_array.append(filler)\n",
    "names_array=np.array(names_array)"
   ]
  },
  {
   "cell_type": "code",
   "execution_count": 7,
   "metadata": {},
   "outputs": [],
   "source": [
    "# Dont Execute\n",
    "class Callbacks(CallbackAny2Vec):\n",
    "    def __init__(self):\n",
    "        self.epoch=0\n",
    "    def on_epoch_begin(self, model):\n",
    "        print(\"Epoch #{} start\".format(self.epoch))"
   ]
  },
  {
   "cell_type": "code",
   "execution_count": 9,
   "metadata": {},
   "outputs": [],
   "source": [
    "# Dont Execute\n",
    "np.random.seed(42)\n",
    "p=np.random.permutation(names_array.shape[0])\n",
    "names_array=names_array[p]\n",
    "names_array=names_array.tolist()\n",
    "\n"
   ]
  },
  {
   "cell_type": "code",
   "execution_count": 15,
   "metadata": {},
   "outputs": [],
   "source": [
    "names_array=np.load('names_array.npy')"
   ]
  },
  {
   "cell_type": "code",
   "execution_count": 16,
   "metadata": {},
   "outputs": [
    {
     "data": {
      "text/plain": [
       "array([['Witch Doctor', 'Death Prophet', 'Void Spirit', ..., 'Sand King',\n",
       "        'Pugna', 'Pangolier'],\n",
       "       ['Shadow Shaman', 'Crystal Maiden', 'Juggernaut', ..., 'Rubick',\n",
       "        'Leshrac', 'Lina'],\n",
       "       ['Crystal Maiden', 'Rubick', 'Centaur Warrunner', ...,\n",
       "        'Windranger', 'Lina', 'Storm Spirit'],\n",
       "       ...,\n",
       "       ['Phoenix', 'Clockwerk', 'Mars', ..., 'Faceless Void',\n",
       "        'Void Spirit', 'Storm Spirit'],\n",
       "       ['Nyx Assassin', 'Tiny', 'Lich', ..., 'Naga Siren', 'Pugna',\n",
       "        'Ember Spirit'],\n",
       "       ['Snapfire', 'Earth Spirit', 'Faceless Void', ..., 'Dark Seer',\n",
       "        'Ember Spirit', 'Kunkka']], dtype='<U19')"
      ]
     },
     "execution_count": 16,
     "metadata": {},
     "output_type": "execute_result"
    }
   ],
   "source": [
    "names_array"
   ]
  },
  {
   "cell_type": "code",
   "execution_count": 17,
   "metadata": {},
   "outputs": [],
   "source": [
    "names_array=names_array.tolist()"
   ]
  },
  {
   "cell_type": "code",
   "execution_count": 12,
   "metadata": {},
   "outputs": [],
   "source": [
    "# Dont Execute\n",
    "# callback=Callbacks()\n",
    "model=Word2Vec(sentences=names_array,min_count=10,vector_size=30,workers=6,hs=0,negative=5,ns_exponent=0.75)\n",
    "model.save('gensim_w2v_30')\n",
    "np.save('names_array',names_array)"
   ]
  },
  {
   "cell_type": "code",
   "execution_count": 22,
   "metadata": {},
   "outputs": [],
   "source": [
    "\n",
    "model=Word2Vec.load('gensim_w2v_30')\n"
   ]
  },
  {
   "cell_type": "code",
   "execution_count": 23,
   "metadata": {},
   "outputs": [
    {
     "data": {
      "text/plain": [
       "[('Storm Spirit', 0.7915605306625366),\n",
       " ('Ember Spirit', 0.7717454433441162),\n",
       " ('Death Prophet', 0.766789972782135),\n",
       " ('Queen of Pain', 0.738997220993042),\n",
       " ('Kunkka', 0.6672903299331665),\n",
       " ('Outworld Destroyer', 0.5951410531997681),\n",
       " ('Puck', 0.5894238948822021),\n",
       " ('Leshrac', 0.5720416307449341),\n",
       " ('Pangolier', 0.5457751750946045),\n",
       " ('Zeus', 0.5336378812789917)]"
      ]
     },
     "execution_count": 23,
     "metadata": {},
     "output_type": "execute_result"
    }
   ],
   "source": [
    "model.wv.most_similar('Void Spirit', topn=10)"
   ]
  },
  {
   "cell_type": "code",
   "execution_count": 5,
   "metadata": {},
   "outputs": [
    {
     "data": {
      "text/plain": [
       "array([ 0.40340322, -0.79655784,  0.36658567,  0.12777796,  0.15666755,\n",
       "        0.71042186,  0.26603433, -0.02034431,  0.24063659, -0.25628477,\n",
       "       -0.68542105, -0.17399786,  0.53721166,  0.124709  , -0.6863065 ,\n",
       "        0.4993741 ,  0.26791766,  0.15260114,  0.17855443, -0.04672189,\n",
       "       -0.01086234,  0.20862965,  0.16140525,  0.44689283,  0.29704195],\n",
       "      dtype=float32)"
      ]
     },
     "execution_count": 5,
     "metadata": {},
     "output_type": "execute_result"
    }
   ],
   "source": [
    "model.wv['Weaver']"
   ]
  },
  {
   "cell_type": "code",
   "execution_count": 15,
   "metadata": {},
   "outputs": [],
   "source": [
    "# Dont execute\n",
    "embedding_array=[]\n",
    "for i in names_array:\n",
    "    buff=[]\n",
    "    for j in i:\n",
    "        buff.append(model.wv[j].tolist())\n",
    "    embedding_array.append(buff)\n",
    "embedding_array=np.array(embedding_array)\n",
    "np.save(\"embedding_array_30\",embedding_array)"
   ]
  },
  {
   "cell_type": "code",
   "execution_count": 24,
   "metadata": {},
   "outputs": [],
   "source": [
    "#Code to paste different embeddings into the picks array\n",
    "embedding_array=[]\n",
    "embed=pd.read_csv('embed_df_25.csv')\n",
    "embed.set_index('Heroes',inplace=True)\n",
    "for i in names_array:\n",
    "    buff=[]\n",
    "    for j in i:\n",
    "        buff.append(embed.loc[j].values.tolist())\n",
    "    embedding_array.append(buff)\n",
    "embedding_array=np.array(embedding_array)\n",
    "np.save(\"embedding_array_25\",embedding_array)    "
   ]
  },
  {
   "cell_type": "code",
   "execution_count": 16,
   "metadata": {},
   "outputs": [],
   "source": [
    "# Dont execute\n",
    "embed_dict={}\n",
    "for i in hero_dict.values():\n",
    "    embed_dict[i]=model.wv[i]\n",
    "embedding_df=pd.DataFrame(embed_dict).T\n",
    "embedding_df.to_csv('hero_to_embedding.csv')\n"
   ]
  },
  {
   "cell_type": "code",
   "execution_count": 36,
   "metadata": {},
   "outputs": [
    {
     "data": {
      "text/plain": [
       "array([-0.7043495 , -0.06863756, -0.3081705 ,  0.32251725, -0.04110075,\n",
       "       -1.0312282 ,  0.02957181,  0.32305858, -0.50500995, -0.6209696 ,\n",
       "       -0.5393622 ,  0.07864455,  0.5616717 , -0.11142162, -0.16307113,\n",
       "        0.20205301,  0.08315631, -0.44847852, -0.85522276,  0.12084273,\n",
       "       -0.49143496,  0.6736064 ,  0.22918826,  0.5577612 ,  0.1078518 ],\n",
       "      dtype=float32)"
      ]
     },
     "execution_count": 36,
     "metadata": {},
     "output_type": "execute_result"
    }
   ],
   "source": [
    "model.wv['Invoker']"
   ]
  },
  {
   "cell_type": "code",
   "execution_count": 20,
   "metadata": {},
   "outputs": [],
   "source": [
    "embedding_array=np.load('embedding_array_30.npy')"
   ]
  },
  {
   "cell_type": "code",
   "execution_count": 21,
   "metadata": {},
   "outputs": [
    {
     "data": {
      "text/plain": [
       "(34877, 10, 30)"
      ]
     },
     "execution_count": 21,
     "metadata": {},
     "output_type": "execute_result"
    }
   ],
   "source": [
    "embedding_array.shape"
   ]
  }
 ],
 "metadata": {
  "kernelspec": {
   "display_name": "Python 3",
   "language": "python",
   "name": "python3"
  },
  "language_info": {
   "codemirror_mode": {
    "name": "ipython",
    "version": 3
   },
   "file_extension": ".py",
   "mimetype": "text/x-python",
   "name": "python",
   "nbconvert_exporter": "python",
   "pygments_lexer": "ipython3",
   "version": "3.7.9"
  }
 },
 "nbformat": 4,
 "nbformat_minor": 4
}
